{
 "cells": [
  {
   "cell_type": "code",
   "execution_count": 1,
   "id": "661abb5a",
   "metadata": {},
   "outputs": [
    {
     "name": "stdout",
     "output_type": "stream",
     "text": [
      "Requirement already satisfied: sounddevice in c:\\users\\hp\\anaconda3\\lib\\site-packages (0.4.7)\n",
      "Requirement already satisfied: soundfile in c:\\users\\hp\\anaconda3\\lib\\site-packages (0.12.1)\n",
      "Requirement already satisfied: CFFI>=1.0 in c:\\users\\hp\\anaconda3\\lib\\site-packages (from sounddevice) (1.15.0)\n",
      "Requirement already satisfied: pycparser in c:\\users\\hp\\anaconda3\\lib\\site-packages (from CFFI>=1.0->sounddevice) (2.21)\n",
      "Note: you may need to restart the kernel to use updated packages.\n"
     ]
    },
    {
     "name": "stderr",
     "output_type": "stream",
     "text": [
      "\n",
      "[notice] A new release of pip is available: 24.1.1 -> 24.1.2\n",
      "[notice] To update, run: python.exe -m pip install --upgrade pip\n"
     ]
    }
   ],
   "source": [
    "pip install sounddevice soundfile"
   ]
  },
  {
   "cell_type": "code",
   "execution_count": 1,
   "id": "4e49b36d",
   "metadata": {},
   "outputs": [
    {
     "name": "stdout",
     "output_type": "stream",
     "text": [
      "Recording...\n",
      "Saving...\n",
      "Recording saved as output.wav\n"
     ]
    }
   ],
   "source": [
    "import sounddevice as sd\n",
    "import soundfile as sf\n",
    "\n",
    "def record_voice():\n",
    "    fs = 44100  # Sample rate\n",
    "    seconds = 15  # Duration of recording\n",
    "\n",
    "    print(\"Recording...\")\n",
    "    myrecording = sd.rec(int(seconds * fs), samplerate=fs, channels=2)\n",
    "    sd.wait()  # Wait until recording is finished\n",
    "\n",
    "    print(\"Saving...\")\n",
    "    sf.write('output.wav', myrecording, fs)  # Save as WAV file\n",
    "\n",
    "    print(\"Recording saved as output.wav\")\n",
    "\n",
    "if __name__ == \"__main__\":\n",
    "    record_voice()"
   ]
  },
  {
   "cell_type": "code",
   "execution_count": null,
   "id": "e8f9c356",
   "metadata": {},
   "outputs": [],
   "source": []
  }
 ],
 "metadata": {
  "kernelspec": {
   "display_name": "Python 3 (ipykernel)",
   "language": "python",
   "name": "python3"
  },
  "language_info": {
   "codemirror_mode": {
    "name": "ipython",
    "version": 3
   },
   "file_extension": ".py",
   "mimetype": "text/x-python",
   "name": "python",
   "nbconvert_exporter": "python",
   "pygments_lexer": "ipython3",
   "version": "3.9.12"
  }
 },
 "nbformat": 4,
 "nbformat_minor": 5
}

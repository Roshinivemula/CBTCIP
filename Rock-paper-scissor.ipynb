{
 "cells": [
  {
   "cell_type": "code",
   "execution_count": 1,
   "id": "8ead41de",
   "metadata": {},
   "outputs": [
    {
     "name": "stdout",
     "output_type": "stream",
     "text": [
      "Enter a choice (rock, paper, scissor): rock\n",
      "\n",
      "You chose rock, computer chose rock.\n",
      "\n",
      "Both players selected rock. It's a tie!\n",
      "Play again? (yes/no): yes\n",
      "Enter a choice (rock, paper, scissor): rock\n",
      "\n",
      "You chose rock, computer chose scissor.\n",
      "\n",
      "Rock smashes scissor! You win!\n",
      "Play again? (yes/no): yes\n",
      "Enter a choice (rock, paper, scissor): paper\n",
      "\n",
      "You chose paper, computer chose scissor.\n",
      "\n",
      "Scissor cuts paper! You lose.\n",
      "Play again? (yes/no): no\n",
      "Thank you for playing!\n"
     ]
    }
   ],
   "source": [
    "import random\n",
    "\n",
    "def game():\n",
    "    while True:\n",
    "        user_action = input(\"Enter a choice (rock, paper, scissor): \")\n",
    "        possible_actions = [\"rock\", \"paper\", \"scissor\"]\n",
    "        computer_action = random.choice(possible_actions)\n",
    "        print(f\"\\nYou chose {user_action}, computer chose {computer_action}.\\n\")\n",
    "\n",
    "        if user_action == computer_action:\n",
    "            print(f\"Both players selected {user_action}. It's a tie!\")\n",
    "        elif user_action == \"rock\":\n",
    "            if computer_action == \"scissor\":\n",
    "                print(\"Rock smashes scissor! You win!\")\n",
    "            else:\n",
    "                print(\"Paper covers rock! You lose.\")\n",
    "        elif user_action == \"paper\":\n",
    "            if computer_action == \"rock\":\n",
    "                print(\"Paper covers rock! You win!\")\n",
    "            else:\n",
    "                print(\"Scissor cuts paper! You lose.\")\n",
    "        elif user_action == \"scissor\":\n",
    "            if computer_action == \"paper\":\n",
    "                print(\"Scissor cuts paper! You win!\")\n",
    "            else:\n",
    "                print(\"Rock smashes scissor! You lose.\")\n",
    "\n",
    "        play_again = input(\"Play again? (yes/no): \")\n",
    "        if play_again.lower() != \"yes\":\n",
    "            break\n",
    "    print(\"Thank you for playing!\")\n",
    "\n",
    "if __name__ == \"__main__\":\n",
    "    game()"
   ]
  },
  {
   "cell_type": "code",
   "execution_count": null,
   "id": "09d02de9",
   "metadata": {},
   "outputs": [],
   "source": []
  }
 ],
 "metadata": {
  "kernelspec": {
   "display_name": "Python 3 (ipykernel)",
   "language": "python",
   "name": "python3"
  },
  "language_info": {
   "codemirror_mode": {
    "name": "ipython",
    "version": 3
   },
   "file_extension": ".py",
   "mimetype": "text/x-python",
   "name": "python",
   "nbconvert_exporter": "python",
   "pygments_lexer": "ipython3",
   "version": "3.9.12"
  }
 },
 "nbformat": 4,
 "nbformat_minor": 5
}
